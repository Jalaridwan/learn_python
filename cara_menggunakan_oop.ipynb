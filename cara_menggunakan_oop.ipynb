{
 "cells": [
  {
   "cell_type": "markdown",
   "metadata": {},
   "source": [
    "# CLASS\n",
    "mendefinisikan class\n",
    "<br>\n",
    "<b> class NamaClass: </b>"
   ]
  },
  {
   "cell_type": "code",
   "execution_count": 14,
   "metadata": {},
   "outputs": [],
   "source": [
    "class KelasHarga:\n",
    "   \n",
    "    #Method __init__ (self, nama_atribut1, nama_atribut2)\n",
    "    def __init__ (self, barang, harga):\n",
    "        self.barang = barang\n",
    "        self.harga = harga\n",
    "        self.diskon = 10\n",
    "        \n",
    "#self disini merujuk pada objek yang mendefinisikan kelas ini\n",
    "#self.barang dll itu artinya membuat method untuk objek"
   ]
  },
  {
   "cell_type": "code",
   "execution_count": 15,
   "metadata": {},
   "outputs": [],
   "source": [
    "keranjang = KelasHarga('Apel',50)"
   ]
  },
  {
   "cell_type": "code",
   "execution_count": 16,
   "metadata": {},
   "outputs": [
    {
     "data": {
      "text/plain": [
       "'Apel'"
      ]
     },
     "execution_count": 16,
     "metadata": {},
     "output_type": "execute_result"
    }
   ],
   "source": [
    "keranjang.barang"
   ]
  },
  {
   "cell_type": "code",
   "execution_count": 17,
   "metadata": {},
   "outputs": [
    {
     "data": {
      "text/plain": [
       "50"
      ]
     },
     "execution_count": 17,
     "metadata": {},
     "output_type": "execute_result"
    }
   ],
   "source": [
    "keranjang.harga"
   ]
  },
  {
   "cell_type": "code",
   "execution_count": 18,
   "metadata": {},
   "outputs": [
    {
     "data": {
      "text/plain": [
       "10"
      ]
     },
     "execution_count": 18,
     "metadata": {},
     "output_type": "execute_result"
    }
   ],
   "source": [
    "keranjang.diskon"
   ]
  },
  {
   "cell_type": "markdown",
   "metadata": {},
   "source": [
    "#### Kelas objek atribut\n",
    "Atribut yang bersifat global bagi suatu kelas, dan bisa digunakan untuk semua method di kelas tersebut\n"
   ]
  },
  {
   "cell_type": "code",
   "execution_count": 24,
   "metadata": {},
   "outputs": [],
   "source": [
    "#Kita buat suatu kelas merek dan harga HP\n",
    "\n",
    "class Ponsel:\n",
    "        \n",
    "    #class object attribute\n",
    "    penjual = 'PS Store'\n",
    "    \n",
    "    #method __init__\n",
    "    def __init__(self, merek, harga):\n",
    "        self.merek = merek\n",
    "        self.harga = harga\n",
    "        self.tahun = '2019'\n",
    "        self.produksi = 'Vietnam'\n",
    "    \n",
    "    \n",
    "    def keterangan(self):\n",
    "        print('{} menjual ponsel merk {} seharga Rp.{} produksi {} tahun {}'.format(self.penjual,self.merek,self.harga,self.produksi,self.tahun))\n",
    "    \n",
    "    #method lain dengan atribut di dalamnya\n",
    "    def spesifikasi(self, ram=4, rom=32,jaringan='4G'):\n",
    "        #artinya default ram,rom, dan jaringan telah di definisikan\n",
    "        #jika ingin merubah saat memanggil method tuliskan atributnya\n",
    "        \n",
    "        print('HP merk {} seharga Rp.{} mempunyai spesifikasi:RAM {} GB, ROM {} GB, dan jaringan {}'.format(self.merek, self.harga, rom, ram, jaringan))"
   ]
  },
  {
   "cell_type": "code",
   "execution_count": 25,
   "metadata": {},
   "outputs": [],
   "source": [
    "hape = Ponsel('Xiaomi',2000)"
   ]
  },
  {
   "cell_type": "code",
   "execution_count": 26,
   "metadata": {},
   "outputs": [
    {
     "data": {
      "text/plain": [
       "2000"
      ]
     },
     "execution_count": 26,
     "metadata": {},
     "output_type": "execute_result"
    }
   ],
   "source": [
    "hape.harga"
   ]
  },
  {
   "cell_type": "code",
   "execution_count": 27,
   "metadata": {},
   "outputs": [
    {
     "data": {
      "text/plain": [
       "'Xiaomi'"
      ]
     },
     "execution_count": 27,
     "metadata": {},
     "output_type": "execute_result"
    }
   ],
   "source": [
    "hape.merek"
   ]
  },
  {
   "cell_type": "code",
   "execution_count": 28,
   "metadata": {},
   "outputs": [
    {
     "name": "stdout",
     "output_type": "stream",
     "text": [
      "PS Store menjual ponsel merk Xiaomi seharga Rp.2000 produksi Vietnam tahun 2019\n"
     ]
    }
   ],
   "source": [
    "#memanggil method selain __init__ harus menyertakan ()\n",
    "hape.keterangan()"
   ]
  },
  {
   "cell_type": "code",
   "execution_count": 30,
   "metadata": {},
   "outputs": [
    {
     "name": "stdout",
     "output_type": "stream",
     "text": [
      "HP merk Xiaomi seharga Rp.2000 mempunyai spesifikasi RAM 32 GB, ROM 4 GB, dan jaringan 4G\n"
     ]
    }
   ],
   "source": [
    "hape.spesifikasi()"
   ]
  },
  {
   "cell_type": "code",
   "execution_count": 32,
   "metadata": {},
   "outputs": [
    {
     "name": "stdout",
     "output_type": "stream",
     "text": [
      "HP merk Xiaomi seharga Rp.2000 mempunyai spesifikasi RAM 64 GB, ROM 6 GB, dan jaringan 5G\n"
     ]
    }
   ],
   "source": [
    "hape.spesifikasi(6,64,'5G')"
   ]
  },
  {
   "cell_type": "markdown",
   "metadata": {},
   "source": [
    "## LATIHAN CLASS\n",
    "Membuat kelas untuk menghitung keliling dan luas lingkaran"
   ]
  },
  {
   "cell_type": "code",
   "execution_count": 68,
   "metadata": {},
   "outputs": [],
   "source": [
    "class Lingkaran:\n",
    "    pi = 3.14\n",
    "    \n",
    "    def __init__(self,diameter):\n",
    "        self.diameter = diameter\n",
    "        self.radius = diameter/2\n",
    "    \n",
    "    def keliling(self):\n",
    "        kel = self.pi*self.diameter\n",
    "        return kel\n",
    "        print('Keliling lingkarang tersebut = ',kel)\n",
    "    \n",
    "    def luas(self):\n",
    "        area = self.pi*(self.radius**2)\n",
    "        return area\n",
    "        print('Luas lingkaran tersebut = ',area)"
   ]
  },
  {
   "cell_type": "code",
   "execution_count": 69,
   "metadata": {},
   "outputs": [],
   "source": [
    "tahu_bulat = Lingkaran(50)"
   ]
  },
  {
   "cell_type": "code",
   "execution_count": 70,
   "metadata": {},
   "outputs": [
    {
     "data": {
      "text/plain": [
       "50"
      ]
     },
     "execution_count": 70,
     "metadata": {},
     "output_type": "execute_result"
    }
   ],
   "source": [
    "tahu_bulat.diameter"
   ]
  },
  {
   "cell_type": "code",
   "execution_count": 71,
   "metadata": {},
   "outputs": [
    {
     "data": {
      "text/plain": [
       "25.0"
      ]
     },
     "execution_count": 71,
     "metadata": {},
     "output_type": "execute_result"
    }
   ],
   "source": [
    "tahu_bulat.radius"
   ]
  },
  {
   "cell_type": "code",
   "execution_count": 72,
   "metadata": {},
   "outputs": [],
   "source": [
    "b = tahu_bulat.keliling()"
   ]
  },
  {
   "cell_type": "code",
   "execution_count": 73,
   "metadata": {},
   "outputs": [],
   "source": [
    "a = tahu_bulat.luas()"
   ]
  },
  {
   "cell_type": "code",
   "execution_count": 74,
   "metadata": {},
   "outputs": [
    {
     "data": {
      "text/plain": [
       "1962.5"
      ]
     },
     "execution_count": 74,
     "metadata": {},
     "output_type": "execute_result"
    }
   ],
   "source": [
    "a"
   ]
  },
  {
   "cell_type": "code",
   "execution_count": 75,
   "metadata": {},
   "outputs": [
    {
     "data": {
      "text/plain": [
       "157.0"
      ]
     },
     "execution_count": 75,
     "metadata": {},
     "output_type": "execute_result"
    }
   ],
   "source": [
    "b"
   ]
  },
  {
   "cell_type": "markdown",
   "metadata": {},
   "source": [
    "# INHERITANCE\n",
    "Menjelaskan dua buah kelas (kelas induk dan kelas turunan)"
   ]
  },
  {
   "cell_type": "code",
   "execution_count": 76,
   "metadata": {},
   "outputs": [],
   "source": [
    "#Definisikan kelas induk\n",
    "\n",
    "class Mahasiswa:\n",
    "    def __init__(self,nama,kelas):\n",
    "        self.nama = nama\n",
    "        self.kelas = kelas\n",
    "        \n",
    "    def keterangan(self):\n",
    "        print(\"{} merupakan mahasiswa kelas {}\".format(self.nama,self.kelas))\n"
   ]
  },
  {
   "cell_type": "code",
   "execution_count": 77,
   "metadata": {},
   "outputs": [],
   "source": [
    "abdul = Mahasiswa('Abdul',4)"
   ]
  },
  {
   "cell_type": "code",
   "execution_count": 78,
   "metadata": {},
   "outputs": [
    {
     "name": "stdout",
     "output_type": "stream",
     "text": [
      "Abdul merupakan mahasiswa kelas 4\n"
     ]
    }
   ],
   "source": [
    "abdul.keterangan()"
   ]
  },
  {
   "cell_type": "code",
   "execution_count": 95,
   "metadata": {},
   "outputs": [],
   "source": [
    "# Membuat kelas inheritance (warisan) yang berisi nilai mahasiswa\n",
    "\n",
    "class NilaiMahasiswa(Mahasiswa): #dalam () tulis kelas induknya\n",
    "    \n",
    "    # mendefinisikan method __init__ kelas NilaiMahasiswa\n",
    "    # harus sama dengan __init__ kelas induk\n",
    "    def __init__(self,nama,kelas):\n",
    "        super().__init__(nama,kelas) #super() merepresentasikan kelas induk\n",
    "        # sama seperti Mahasiswa.__init__(nama,kelas) /jika tau nama induknya\n",
    "        self.nilai_update = []\n",
    "        \n",
    "    def input_nilai(self,nilai):\n",
    "        '''\n",
    "        input_nilai digunakan untuk memasukan nilai baru\n",
    "        '''\n",
    "        return self.nilai_update.append(nilai)\n",
    "    \n",
    "\n",
    "#Semua method di kelas induk dapat digunakan di kelas turunannya"
   ]
  },
  {
   "cell_type": "code",
   "execution_count": 96,
   "metadata": {},
   "outputs": [],
   "source": [
    "budi = NilaiMahasiswa('Budi',7)"
   ]
  },
  {
   "cell_type": "code",
   "execution_count": 97,
   "metadata": {},
   "outputs": [
    {
     "name": "stdout",
     "output_type": "stream",
     "text": [
      "Budi merupakan mahasiswa kelas 7\n"
     ]
    }
   ],
   "source": [
    "budi.keterangan()"
   ]
  },
  {
   "cell_type": "code",
   "execution_count": 98,
   "metadata": {},
   "outputs": [
    {
     "data": {
      "text/plain": [
       "[]"
      ]
     },
     "execution_count": 98,
     "metadata": {},
     "output_type": "execute_result"
    }
   ],
   "source": [
    "budi.nilai_update"
   ]
  },
  {
   "cell_type": "code",
   "execution_count": 99,
   "metadata": {},
   "outputs": [],
   "source": [
    "budi.input_nilai(70)"
   ]
  },
  {
   "cell_type": "code",
   "execution_count": 100,
   "metadata": {},
   "outputs": [
    {
     "data": {
      "text/plain": [
       "[70]"
      ]
     },
     "execution_count": 100,
     "metadata": {},
     "output_type": "execute_result"
    }
   ],
   "source": [
    "budi.nilai_update"
   ]
  },
  {
   "cell_type": "code",
   "execution_count": 101,
   "metadata": {},
   "outputs": [],
   "source": [
    "budi.input_nilai(90)"
   ]
  },
  {
   "cell_type": "code",
   "execution_count": 102,
   "metadata": {},
   "outputs": [
    {
     "data": {
      "text/plain": [
       "[70, 90]"
      ]
     },
     "execution_count": 102,
     "metadata": {},
     "output_type": "execute_result"
    }
   ],
   "source": [
    "budi.nilai_update"
   ]
  },
  {
   "cell_type": "markdown",
   "metadata": {},
   "source": [
    "# POLYMORPHISM\n",
    "menggunakan fitur dari beberapa class ke dalam class lain"
   ]
  },
  {
   "cell_type": "code",
   "execution_count": 1,
   "metadata": {},
   "outputs": [],
   "source": [
    "class Kucing:\n",
    "    def __init__(self, nama):\n",
    "        self.nama = nama\n",
    "    \n",
    "    def respon(self):\n",
    "        return self.nama+' meow-meow!'"
   ]
  },
  {
   "cell_type": "code",
   "execution_count": 2,
   "metadata": {},
   "outputs": [],
   "source": [
    "class Anjing:\n",
    "    def __init__(self, nama):\n",
    "        self.nama = nama\n",
    "    \n",
    "    def respon(self):\n",
    "        return self.nama+' Guk-guk!'"
   ]
  },
  {
   "cell_type": "code",
   "execution_count": 3,
   "metadata": {},
   "outputs": [],
   "source": [
    "harley = Anjing('Harley')"
   ]
  },
  {
   "cell_type": "code",
   "execution_count": 4,
   "metadata": {},
   "outputs": [],
   "source": [
    "catty = Kucing('Catty')"
   ]
  },
  {
   "cell_type": "code",
   "execution_count": 5,
   "metadata": {},
   "outputs": [
    {
     "data": {
      "text/plain": [
       "'Harley Guk-guk!'"
      ]
     },
     "execution_count": 5,
     "metadata": {},
     "output_type": "execute_result"
    }
   ],
   "source": [
    "harley.respon()"
   ]
  },
  {
   "cell_type": "code",
   "execution_count": 6,
   "metadata": {},
   "outputs": [
    {
     "data": {
      "text/plain": [
       "'Catty meow-meow!'"
      ]
     },
     "execution_count": 6,
     "metadata": {},
     "output_type": "execute_result"
    }
   ],
   "source": [
    "catty.respon()"
   ]
  },
  {
   "cell_type": "code",
   "execution_count": 7,
   "metadata": {},
   "outputs": [
    {
     "name": "stdout",
     "output_type": "stream",
     "text": [
      "<class '__main__.Kucing'>\n",
      "Catty meow-meow!\n",
      "<class '__main__.Anjing'>\n",
      "Harley Guk-guk!\n"
     ]
    }
   ],
   "source": [
    "for binatang in [catty,harley]:\n",
    "    print(type(binatang))\n",
    "    print(binatang.respon())"
   ]
  },
  {
   "cell_type": "code",
   "execution_count": 8,
   "metadata": {},
   "outputs": [],
   "source": [
    "def suara_hewan(item):\n",
    "    print(item.respon())"
   ]
  },
  {
   "cell_type": "code",
   "execution_count": 9,
   "metadata": {},
   "outputs": [
    {
     "name": "stdout",
     "output_type": "stream",
     "text": [
      "Catty meow-meow!\n"
     ]
    }
   ],
   "source": [
    "suara_hewan(catty)"
   ]
  },
  {
   "cell_type": "markdown",
   "metadata": {},
   "source": [
    "## DUNDER/MAGIC METHOD\n",
    "ciri khas dunder method memiliki tanda __"
   ]
  },
  {
   "cell_type": "markdown",
   "metadata": {},
   "source": [
    "### LATIHAN Class 2"
   ]
  },
  {
   "cell_type": "code",
   "execution_count": 49,
   "metadata": {},
   "outputs": [],
   "source": [
    "class RekeningBank:\n",
    "    def __init__(self, saldo):\n",
    "        self.saldo = saldo\n",
    "        \n",
    "    def nabung(self, tambah=0):\n",
    "        self.saldo += tambah\n",
    "        # return self.saldo\n",
    "        \n",
    "    def tarik(self, kurang=0):\n",
    "        if self.saldo >= kurang:\n",
    "            self.saldo -= kurang\n",
    "        else:\n",
    "            print('saldo tidak mencukupi')\n",
    "        \n",
    "        # return self.saldo\n",
    "    \n",
    "    def cetak(self):\n",
    "        print('Sisa tabungan anda {} '.format(self.saldo))\n",
    "        \n",
    "        "
   ]
  },
  {
   "cell_type": "code",
   "execution_count": 50,
   "metadata": {},
   "outputs": [],
   "source": [
    "tabungan = RekeningBank(500)"
   ]
  },
  {
   "cell_type": "code",
   "execution_count": 51,
   "metadata": {},
   "outputs": [
    {
     "data": {
      "text/plain": [
       "500"
      ]
     },
     "execution_count": 51,
     "metadata": {},
     "output_type": "execute_result"
    }
   ],
   "source": [
    "tabungan.saldo"
   ]
  },
  {
   "cell_type": "code",
   "execution_count": 52,
   "metadata": {},
   "outputs": [
    {
     "name": "stdout",
     "output_type": "stream",
     "text": [
      "Sisa tabungan anda 500 \n"
     ]
    }
   ],
   "source": [
    "tabungan.cetak()"
   ]
  },
  {
   "cell_type": "code",
   "execution_count": 53,
   "metadata": {},
   "outputs": [],
   "source": [
    "tabungan.nabung(100)"
   ]
  },
  {
   "cell_type": "code",
   "execution_count": 54,
   "metadata": {},
   "outputs": [
    {
     "name": "stdout",
     "output_type": "stream",
     "text": [
      "Sisa tabungan anda 600 \n"
     ]
    }
   ],
   "source": [
    "tabungan.cetak()"
   ]
  },
  {
   "cell_type": "code",
   "execution_count": 55,
   "metadata": {},
   "outputs": [],
   "source": [
    "tabungan.nabung(200)"
   ]
  },
  {
   "cell_type": "code",
   "execution_count": 56,
   "metadata": {},
   "outputs": [
    {
     "name": "stdout",
     "output_type": "stream",
     "text": [
      "Sisa tabungan anda 800 \n"
     ]
    }
   ],
   "source": [
    "tabungan.cetak()"
   ]
  },
  {
   "cell_type": "code",
   "execution_count": 57,
   "metadata": {},
   "outputs": [],
   "source": [
    "tabungan.tarik(650)"
   ]
  },
  {
   "cell_type": "code",
   "execution_count": 58,
   "metadata": {},
   "outputs": [
    {
     "name": "stdout",
     "output_type": "stream",
     "text": [
      "Sisa tabungan anda 150 \n"
     ]
    }
   ],
   "source": [
    "tabungan.cetak()"
   ]
  },
  {
   "cell_type": "code",
   "execution_count": 59,
   "metadata": {},
   "outputs": [
    {
     "name": "stdout",
     "output_type": "stream",
     "text": [
      "saldo tidak mencukupi\n"
     ]
    }
   ],
   "source": [
    "tabungan.tarik(200)"
   ]
  },
  {
   "cell_type": "code",
   "execution_count": null,
   "metadata": {},
   "outputs": [],
   "source": []
  }
 ],
 "metadata": {
  "kernelspec": {
   "display_name": "Python 3",
   "language": "python",
   "name": "python3"
  },
  "language_info": {
   "codemirror_mode": {
    "name": "ipython",
    "version": 3
   },
   "file_extension": ".py",
   "mimetype": "text/x-python",
   "name": "python",
   "nbconvert_exporter": "python",
   "pygments_lexer": "ipython3",
   "version": "3.8.5"
  }
 },
 "nbformat": 4,
 "nbformat_minor": 4
}
